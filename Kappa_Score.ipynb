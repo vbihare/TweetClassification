{
 "cells": [
  {
   "cell_type": "markdown",
   "metadata": {},
   "source": [
    "# Kappa Score\n",
    "Cohen’s kappa measures the agreement between two raters who each classify N items into C mutually exclusive categories. A simple way to think this is that Cohen’s Kappa is a quantitative measure of reliability for two raters that are rating the same thing, corrected for how often that the raters may agree by chance.\n",
    "\n",
    "## Evaluating Cohen’s Kappa\n",
    "The value for kappa can range between 0 -1. A score of 0 means that there is random agreement among raters, whereas a score of 1 means that there is a complete agreement between the raters. However, a score that is less than 0 means that there is less agreement than chance.\n",
    "Lastly, the formula for Cohen’s Kappa is the probability of agreement take away the probability of random agreement divided by 1 minus the probability of random agreement.\n",
    "\n",
    "You can read more [here](https://scikit-learn.org/stable/modules/generated/sklearn.metrics.cohen_kappa_score.html)                                       "
   ]
  },
  {
   "cell_type": "code",
   "execution_count": 19,
   "metadata": {},
   "outputs": [
    {
     "data": {
      "text/html": [
       "<div>\n",
       "<style scoped>\n",
       "    .dataframe tbody tr th:only-of-type {\n",
       "        vertical-align: middle;\n",
       "    }\n",
       "\n",
       "    .dataframe tbody tr th {\n",
       "        vertical-align: top;\n",
       "    }\n",
       "\n",
       "    .dataframe thead th {\n",
       "        text-align: right;\n",
       "    }\n",
       "</style>\n",
       "<table border=\"1\" class=\"dataframe\">\n",
       "  <thead>\n",
       "    <tr style=\"text-align: right;\">\n",
       "      <th></th>\n",
       "      <th>TEXT</th>\n",
       "      <th>Classified 1</th>\n",
       "      <th>Classified 2</th>\n",
       "    </tr>\n",
       "  </thead>\n",
       "  <tbody>\n",
       "    <tr>\n",
       "      <td>0</td>\n",
       "      <td>@fishin4bogey @Cairill1 @erobbins @thesarahkel...</td>\n",
       "      <td>pro</td>\n",
       "      <td>pro</td>\n",
       "    </tr>\n",
       "    <tr>\n",
       "      <td>1</td>\n",
       "      <td>@jpmoney1999 Would be kinda moved by this if t...</td>\n",
       "      <td>unrelated</td>\n",
       "      <td>neutral</td>\n",
       "    </tr>\n",
       "    <tr>\n",
       "      <td>2</td>\n",
       "      <td>@cook17 Shame really because if you were going...</td>\n",
       "      <td>pro</td>\n",
       "      <td>neutral</td>\n",
       "    </tr>\n",
       "    <tr>\n",
       "      <td>3</td>\n",
       "      <td>@Evysdove @CAgovernor Do you feel pain all the...</td>\n",
       "      <td>pro</td>\n",
       "      <td>pro</td>\n",
       "    </tr>\n",
       "    <tr>\n",
       "      <td>4</td>\n",
       "      <td>@DiamondandSilk Well they are saying the same ...</td>\n",
       "      <td>pro</td>\n",
       "      <td>pro</td>\n",
       "    </tr>\n",
       "  </tbody>\n",
       "</table>\n",
       "</div>"
      ],
      "text/plain": [
       "                                                TEXT Classified 1 Classified 2\n",
       "0  @fishin4bogey @Cairill1 @erobbins @thesarahkel...          pro          pro\n",
       "1  @jpmoney1999 Would be kinda moved by this if t...    unrelated      neutral\n",
       "2  @cook17 Shame really because if you were going...          pro      neutral\n",
       "3  @Evysdove @CAgovernor Do you feel pain all the...          pro          pro\n",
       "4  @DiamondandSilk Well they are saying the same ...          pro          pro"
      ]
     },
     "execution_count": 19,
     "metadata": {},
     "output_type": "execute_result"
    }
   ],
   "source": [
    "#Importing the tweet classification workbook\n",
    "import pandas as pd\n",
    "df= pd.read_csv('Kappa_Score_ManualClassification.csv')\n",
    "df.head()"
   ]
  },
  {
   "cell_type": "code",
   "execution_count": 20,
   "metadata": {},
   "outputs": [
    {
     "data": {
      "text/plain": [
       "0.946651776126455"
      ]
     },
     "execution_count": 20,
     "metadata": {},
     "output_type": "execute_result"
    }
   ],
   "source": [
    "#Calculating the Kappa Score\n",
    "import sklearn\n",
    "sklearn.metrics.cohen_kappa_score(df['Classified 1'], df['Classified 2']) "
   ]
  },
  {
   "cell_type": "code",
   "execution_count": 28,
   "metadata": {},
   "outputs": [
    {
     "data": {
      "text/plain": [
       "(pro          475\n",
       " neutral      122\n",
       " against       68\n",
       " unrelated     25\n",
       " Name: Classified 1, dtype: int64, pro          467\n",
       " neutral      135\n",
       " against       65\n",
       " unrelated     23\n",
       " Name: Classified 2, dtype: int64)"
      ]
     },
     "execution_count": 28,
     "metadata": {},
     "output_type": "execute_result"
    }
   ],
   "source": [
    "#Let's see the difference in values\n",
    "df['Classified 1'].value_counts(), df['Classified 2'].value_counts()"
   ]
  },
  {
   "cell_type": "markdown",
   "metadata": {},
   "source": [
    "## Interpreting the Kappa Score\n",
    "The Kappa Score for our Multi-Class Classification is 0.95, which means there is strong agreement among the raters."
   ]
  }
 ],
 "metadata": {
  "kernelspec": {
   "display_name": "Python 3",
   "language": "python",
   "name": "python3"
  },
  "language_info": {
   "codemirror_mode": {
    "name": "ipython",
    "version": 3
   },
   "file_extension": ".py",
   "mimetype": "text/x-python",
   "name": "python",
   "nbconvert_exporter": "python",
   "pygments_lexer": "ipython3",
   "version": "3.7.4"
  }
 },
 "nbformat": 4,
 "nbformat_minor": 2
}

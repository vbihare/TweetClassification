{
 "cells": [
  {
   "cell_type": "markdown",
   "metadata": {},
   "source": [
    "## Results from our ML classification"
   ]
  },
  {
   "cell_type": "code",
   "execution_count": 1,
   "metadata": {},
   "outputs": [],
   "source": [
    "import pandas as pd\n",
    "import matplotlib.pyplot as plt\n",
    "import seaborn as sb\n",
    "%matplotlib inline"
   ]
  },
  {
   "cell_type": "markdown",
   "metadata": {},
   "source": [
    "**The below data frame consists of 3 fields:**\n",
    "1. text- The tweet.\n",
    "2. Result(ML)- Results we have recieved from the machine learning multi class classification\n",
    "3. Actual results- The actual results, manually classified. This field can help us understand the accuracy of our classifier"
   ]
  },
  {
   "cell_type": "code",
   "execution_count": 2,
   "metadata": {},
   "outputs": [
    {
     "data": {
      "text/html": [
       "<div>\n",
       "<style scoped>\n",
       "    .dataframe tbody tr th:only-of-type {\n",
       "        vertical-align: middle;\n",
       "    }\n",
       "\n",
       "    .dataframe tbody tr th {\n",
       "        vertical-align: top;\n",
       "    }\n",
       "\n",
       "    .dataframe thead th {\n",
       "        text-align: right;\n",
       "    }\n",
       "</style>\n",
       "<table border=\"1\" class=\"dataframe\">\n",
       "  <thead>\n",
       "    <tr style=\"text-align: right;\">\n",
       "      <th></th>\n",
       "      <th>Text</th>\n",
       "      <th>Result(ML)</th>\n",
       "      <th>Actual results</th>\n",
       "    </tr>\n",
       "  </thead>\n",
       "  <tbody>\n",
       "    <tr>\n",
       "      <td>0</td>\n",
       "      <td>Who would have guessed a year ago that perhaps...</td>\n",
       "      <td>pro</td>\n",
       "      <td>neutral</td>\n",
       "    </tr>\n",
       "    <tr>\n",
       "      <td>1</td>\n",
       "      <td>@jjsmokkieBOY57 @TheTweetOfGod is this true, y...</td>\n",
       "      <td>pro</td>\n",
       "      <td>neutral</td>\n",
       "    </tr>\n",
       "    <tr>\n",
       "      <td>2</td>\n",
       "      <td>NaN</td>\n",
       "      <td>unrelated</td>\n",
       "      <td>neutral</td>\n",
       "    </tr>\n",
       "    <tr>\n",
       "      <td>3</td>\n",
       "      <td>PSA from my partner (medical professional): \"W...</td>\n",
       "      <td>pro</td>\n",
       "      <td>pro</td>\n",
       "    </tr>\n",
       "    <tr>\n",
       "      <td>4</td>\n",
       "      <td>@DrJayRichards It helps for those over 60 to s...</td>\n",
       "      <td>pro</td>\n",
       "      <td>pro</td>\n",
       "    </tr>\n",
       "  </tbody>\n",
       "</table>\n",
       "</div>"
      ],
      "text/plain": [
       "                                                Text Result(ML) Actual results\n",
       "0  Who would have guessed a year ago that perhaps...        pro        neutral\n",
       "1  @jjsmokkieBOY57 @TheTweetOfGod is this true, y...        pro        neutral\n",
       "2                                                NaN  unrelated        neutral\n",
       "3  PSA from my partner (medical professional): \"W...        pro            pro\n",
       "4  @DrJayRichards It helps for those over 60 to s...        pro            pro"
      ]
     },
     "execution_count": 2,
     "metadata": {},
     "output_type": "execute_result"
    }
   ],
   "source": [
    "df= pd.read_csv('output.csv')\n",
    "df.head()"
   ]
  },
  {
   "cell_type": "code",
   "execution_count": 3,
   "metadata": {},
   "outputs": [
    {
     "data": {
      "image/png": "[encoded data removed]",
      "text/plain": [
       "<Figure size 432x288 with 1 Axes>"
      ]
     },
     "metadata": {
      "needs_background": "light"
     },
     "output_type": "display_data"
    }
   ],
   "source": [
    "sb.countplot(df['Result(ML)']);\n",
    "plt.title(\"Tweet classification using the Machine learning \");"
   ]
  },
  {
   "cell_type": "code",
   "execution_count": 4,
   "metadata": {},
   "outputs": [
    {
     "data": {
      "image/png": "[encoded data removed]",
      "text/plain": [
       "<Figure size 432x288 with 1 Axes>"
      ]
     },
     "metadata": {
      "needs_background": "light"
     },
     "output_type": "display_data"
    }
   ],
   "source": [
    "sb.countplot(df['Actual results']);\n",
    "plt.title(\"Actual classification of tweets\");"
   ]
  },
  {
   "cell_type": "code",
   "execution_count": 14,
   "metadata": {},
   "outputs": [
    {
     "name": "stdout",
     "output_type": "stream",
     "text": [
      "0.32469073647871116\n",
      "0.6202127659574468\n",
      "0.3254901960784314\n"
     ]
    }
   ],
   "source": [
    "#Importing library to calculate the f1 score, precision rate and recall rate\n",
    "from sklearn.metrics import accuracy_score, f1_score, precision_score, recall_score, classification_report, confusion_matrix\n",
    "\n",
    "actual_dummy= pd.get_dummies(data=df['Actual results'], columns=['neutral','against','unrelated'])\n",
    "pred_dummy= pd.get_dummies(data=df['Result(ML)'], columns= ['neutral','against','unrelated'])\n",
    "\n",
    "print(f1_score(actual_dummy, pred_dummy, average=\"macro\"))\n",
    "print(precision_score(actual_dummy, pred_dummy, average=\"macro\"))\n",
    "print(recall_score(actual_dummy, pred_dummy, average=\"macro\"))    "
   ]
  }
 ],
 "metadata": {
  "kernelspec": {
   "display_name": "Python 3",
   "language": "python",
   "name": "python3"
  },
  "language_info": {
   "codemirror_mode": {
    "name": "ipython",
    "version": 3
   },
   "file_extension": ".py",
   "mimetype": "text/x-python",
   "name": "python",
   "nbconvert_exporter": "python",
   "pygments_lexer": "ipython3",
   "version": "3.7.4"
  }
 },
 "nbformat": 4,
 "nbformat_minor": 2
}
